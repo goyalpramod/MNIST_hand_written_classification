{
  "nbformat": 4,
  "nbformat_minor": 0,
  "metadata": {
    "colab": {
      "provenance": [],
      "authorship_tag": "ABX9TyPGrbFJmX06n3iSvRgZ8XmK",
      "include_colab_link": true
    },
    "kernelspec": {
      "name": "python3",
      "display_name": "Python 3"
    },
    "language_info": {
      "name": "python"
    }
  },
  "cells": [
    {
      "cell_type": "markdown",
      "metadata": {
        "id": "view-in-github",
        "colab_type": "text"
      },
      "source": [
        "<a href=\"https://colab.research.google.com/github/goyalpramod/MNIST_hand_written_classification/blob/main/intro_to_image_processing_using_ml.ipynb\" target=\"_parent\"><img src=\"https://colab.research.google.com/assets/colab-badge.svg\" alt=\"Open In Colab\"/></a>"
      ]
    },
    {
      "cell_type": "code",
      "execution_count": null,
      "metadata": {
        "id": "HNQdZ1nNZAeq"
      },
      "outputs": [],
      "source": [
        "# variables and data types (naming rules, keyword variables)\n",
        "# int, string, char, bool\n"
      ]
    },
    {
      "cell_type": "code",
      "source": [
        "# Comments and indentation"
      ],
      "metadata": {
        "id": "ST-wK9oOZwAg"
      },
      "execution_count": null,
      "outputs": []
    },
    {
      "cell_type": "code",
      "source": [
        "# Basic operations like addition, subtraction, multiplication, division, mod, comparision, assignment, logical operators"
      ],
      "metadata": {
        "id": "xSrWDJs2Zwgp"
      },
      "execution_count": null,
      "outputs": []
    },
    {
      "cell_type": "code",
      "source": [
        "# Conditional statements (if, elif, else)"
      ],
      "metadata": {
        "id": "HyDhSb6ZZz1Q"
      },
      "execution_count": null,
      "outputs": []
    },
    {
      "cell_type": "code",
      "source": [
        "# For loop"
      ],
      "metadata": {
        "id": "oL8iktmwZ0G8"
      },
      "execution_count": null,
      "outputs": []
    },
    {
      "cell_type": "code",
      "source": [
        "# While loop"
      ],
      "metadata": {
        "id": "goi-qZF1Z0QF"
      },
      "execution_count": null,
      "outputs": []
    },
    {
      "cell_type": "code",
      "source": [
        "# control statement, continue, pass, break"
      ],
      "metadata": {
        "id": "Wb-GB5hyZ0Wl"
      },
      "execution_count": null,
      "outputs": []
    },
    {
      "cell_type": "code",
      "source": [
        "# lists"
      ],
      "metadata": {
        "id": "YFE8jKr1Z0eM"
      },
      "execution_count": null,
      "outputs": []
    },
    {
      "cell_type": "code",
      "source": [
        "# tuples"
      ],
      "metadata": {
        "id": "bifdmq8DZ0km"
      },
      "execution_count": null,
      "outputs": []
    },
    {
      "cell_type": "code",
      "source": [
        "# dictionaries"
      ],
      "metadata": {
        "id": "b5Rv-lpFZ0qW"
      },
      "execution_count": null,
      "outputs": []
    },
    {
      "cell_type": "code",
      "source": [
        "# defining functions"
      ],
      "metadata": {
        "id": "GDanQ5ZRZ0wr"
      },
      "execution_count": null,
      "outputs": []
    },
    {
      "cell_type": "code",
      "source": [
        "# function calling"
      ],
      "metadata": {
        "id": "dhofL15qZ02E"
      },
      "execution_count": null,
      "outputs": []
    },
    {
      "cell_type": "code",
      "source": [
        "# OOPs, class Calculator"
      ],
      "metadata": {
        "id": "f5Pa_5jUZ07Z"
      },
      "execution_count": null,
      "outputs": []
    },
    {
      "cell_type": "code",
      "source": [],
      "metadata": {
        "id": "u_o5nvFxZ1BK"
      },
      "execution_count": null,
      "outputs": []
    },
    {
      "cell_type": "code",
      "source": [],
      "metadata": {
        "id": "Ygq7EpyCZ1IT"
      },
      "execution_count": null,
      "outputs": []
    },
    {
      "cell_type": "code",
      "source": [],
      "metadata": {
        "id": "9Cvog7jwZ1P3"
      },
      "execution_count": null,
      "outputs": []
    },
    {
      "cell_type": "code",
      "source": [],
      "metadata": {
        "id": "7SYtbuXqZ1Vj"
      },
      "execution_count": null,
      "outputs": []
    },
    {
      "cell_type": "code",
      "source": [],
      "metadata": {
        "id": "wsznKd1iZ1a0"
      },
      "execution_count": null,
      "outputs": []
    }
  ]
}